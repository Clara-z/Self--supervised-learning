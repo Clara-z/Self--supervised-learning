{
 "cells": [
  {
   "cell_type": "code",
   "execution_count": null,
   "metadata": {
    "collapsed": true
   },
   "outputs": [],
   "source": [
    "import httplib2\n",
    "from apiclient.discovery import build\n",
    "from oauth2client.client import flow_from_clientsecrets\n",
    "from oauth2client.file import Storage\n",
    "from oauth2client import tools\n",
    "import argparse\n",
    " \n",
    "CLIENT_SECRETS = 'client_secrets.json'\n",
    " \n",
    "# The Flow object to be used if we need to authenticate.\n",
    "FLOW = flow_from_clientsecrets(\n",
    "    CLIENT_SECRETS,\n",
    "    scope='https://www.googleapis.com/auth/analytics.readonly',\n",
    "    message='%s is missing' % CLIENT_SECRETS\n",
    "    )\n",
    " \n",
    "# A file to store the access token\n",
    "TOKEN_FILE_NAME = 'credentials.dat'\n",
    " \n",
    "def prepare_credentials():\n",
    "    parser = argparse.ArgumentParser(parents=[tools.argparser])\n",
    "    flags = parser.parse_args()\n",
    "    # Retrieve existing credendials\n",
    "    storage = Storage(TOKEN_FILE_NAME)\n",
    "    credentials = storage.get()\n",
    "    # If no credentials exist, we create new ones\n",
    "    if credentials is None or credentials.invalid:\n",
    "        credentials = tools.run_flow(FLOW, storage, flags)\n",
    "    return credentials\n",
    " \n",
    "def initialize_service():\n",
    "    # Creates an http object and authorize it using\n",
    "    # the function prepare_creadentials()\n",
    "    http = httplib2.Http()\n",
    "    credentials = prepare_credentials()\n",
    "    http = credentials.authorize(http)\n",
    "    # Build the Analytics Service Object with the authorized http object\n",
    "    return build('analytics', 'v3', http=http)\n",
    "\n",
    "def get_accounts_ids(service):\n",
    "    accounts = service.management().accounts().list().execute()\n",
    "    ids = []\n",
    "    if accounts.get('items'): # Thsi can be replaced with a cleaner implementation\n",
    "        for account in accounts['items']:\n",
    "            ids.append(account['id'])\n",
    "    return ids\n",
    " \n",
    "if __name__ == '__main__':\n",
    "    service = initialize_service()\n",
    "    profiles = service.management().profiles().list(accountId='35423631',\n",
    "                                                  webPropertyId='~all'\n",
    "                                                 ).execute()\n",
    "\n",
    "    print(profiles)\n",
    "    #accountId='35482361')- this was in admin - drop down\n",
    "    #webPropertyId='UA-35482361-1').execute()#In property settings detail at the top of the page"
   ]
  }
 ],
 "metadata": {
  "kernelspec": {
   "display_name": "Python 2",
   "language": "python",
   "name": "python2"
  },
  "language_info": {
   "codemirror_mode": {
    "name": "ipython",
    "version": 2
   },
   "file_extension": ".py",
   "mimetype": "text/x-python",
   "name": "python",
   "nbconvert_exporter": "python",
   "pygments_lexer": "ipython2",
   "version": "2.7.11"
  }
 },
 "nbformat": 4,
 "nbformat_minor": 0
}
