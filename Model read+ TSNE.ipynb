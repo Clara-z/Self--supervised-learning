{
 "cells": [
  {
   "cell_type": "code",
   "execution_count": 13,
   "metadata": {
    "collapsed": false
   },
   "outputs": [
    {
     "name": "stdout",
     "output_type": "stream",
     "text": [
      "Embedding Weights loaded.\n",
      "[t-SNE] Computing pairwise distances...\n",
      "[t-SNE] Computing 49 nearest neighbors...\n",
      "[t-SNE] Computed conditional probabilities for sample 50 / 50\n",
      "[t-SNE] Mean sigma: 2.252086\n",
      "[t-SNE] Iteration 25: error = 1.6078917, gradient norm = 0.0027273\n",
      "[t-SNE] Iteration 50: error = 1.5210387, gradient norm = 0.0019067\n",
      "[t-SNE] Iteration 75: error = 1.4069742, gradient norm = 0.0009577\n",
      "[t-SNE] Iteration 75: gradient norm 0.000958. Finished.\n",
      "[t-SNE] Error after 75 iterations with early exaggeration: 1.406974\n",
      "[t-SNE] Iteration 100: error = 1.3574212, gradient norm = 0.0008080\n",
      "[t-SNE] Iteration 100: gradient norm 0.000808. Finished.\n",
      "[t-SNE] Error after 100 iterations: 1.357421\n",
      "('vis_data  vector has shape', (50, 2))\n"
     ]
    }
   ],
   "source": [
    "import h5py\n",
    "import numpy as np\n",
    "from keras.models import Sequential\n",
    "from keras.layers.core import Dense, Activation, Dropout, Flatten\n",
    "from keras.layers.recurrent import LSTM\n",
    "from sklearn.manifold import TSNE\n",
    "from matplotlib import pyplot as plt\n",
    "#loading the weights from the saved file but for that we have to compile the model\n",
    "#Compiling the model\n",
    "vocabsize=9400\n",
    "vector_embedding = 128\n",
    "maxlen = 4\n",
    "fixlen=3\n",
    "model = Sequential()\n",
    "model.add(LSTM(input_dim=vocabsize+1, output_dim=vector_embedding, input_length=fixlen, return_sequences=True))\n",
    "model.add(Activation('sigmoid'))\n",
    "model.add(Dropout(0.2))\n",
    "model.add(LSTM(input_dim=vector_embedding, output_dim=vector_embedding, input_length=fixlen, return_sequences=False))\n",
    "model.add(Dropout(0.2))\n",
    "model.add(Dense(vocabsize+1))\n",
    "model.add(Activation('softmax'))\n",
    "model.compile(loss='categorical_crossentropy', optimizer='rmsprop')\n",
    "\n",
    "#Loading the weights\n",
    "directory ='/home/sinah/'\n",
    "weights_path= directory + 'model_weight.hdf5'\n",
    "f = h5py.File(weights_path)\n",
    "for k in range(f.attrs['nb_layers']):\n",
    "    if k ==0:\n",
    "        g = f['layer_{}'.format(k)]\n",
    "        weights = [g['param_{}'.format(p)] for p in range(g.attrs['nb_params'])]\n",
    "        model.layers[k].set_weights(weights)\n",
    "        x=model.layers[k].get_weights()\n",
    "        embedding = np.array(x[0])\n",
    "    else:\n",
    "        break\n",
    "f.close()\n",
    "print('Embedding Weights loaded.')\n",
    "\n",
    "#Sigmoid transformation of weights and then to binary\n",
    "top_words_count=50\n",
    "embedding = 1/(1+np.exp(embedding*-1))\n",
    "embedding_capped_with_max_words=np.zeros((top_words_count,len(embedding[0])))\n",
    "for rows in range(0,top_words_count):\n",
    "    for cols in range(0,len(embedding[0])):\n",
    "        if embedding[rows][cols]<.5:\n",
    "            embedding_capped_with_max_words[rows][cols] = 0\n",
    "        else:\n",
    "            embedding_capped_with_max_words[rows][cols] = 1 \n",
    "\n",
    "#Get the top 100 words in vocab  in word list\n",
    "counter=0\n",
    "text_open=open(directory + 'vocab.txt','r')\n",
    "words=[]\n",
    "for item in text_open:\n",
    "    if counter < top_words_count:\n",
    "        words.append(item.strip('\\n'))\n",
    "        counter = counter +1\n",
    "    else:\n",
    "        break\n",
    "\n",
    "#Get TSNE representation of the words\n",
    "model_tsne = TSNE(n_components=2, verbose=2, n_iter=200)\n",
    "vis_data = model_tsne.fit_transform(embedding_capped_with_max_words)\n",
    "print('vis_data  vector has shape', vis_data.shape)\n",
    "# plot the result\n",
    "vis_x = vis_data[:, 0]\n",
    "vis_y = vis_data[:, 1]\n",
    "fig,ax = plt.subplots()\n",
    "ax.scatter(vis_x, vis_y)\n",
    "for i, txt in enumerate(words):\n",
    "    ax.annotate(txt, (vis_x[i],vis_y[i]))\n",
    "plt.show()\n"
   ]
  }
 ],
 "metadata": {
  "kernelspec": {
   "display_name": "Python 2",
   "language": "python",
   "name": "python2"
  },
  "language_info": {
   "codemirror_mode": {
    "name": "ipython",
    "version": 2
   },
   "file_extension": ".py",
   "mimetype": "text/x-python",
   "name": "python",
   "nbconvert_exporter": "python",
   "pygments_lexer": "ipython2",
   "version": "2.7.11"
  }
 },
 "nbformat": 4,
 "nbformat_minor": 0
}
