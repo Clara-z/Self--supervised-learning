{
 "cells": [
  {
   "cell_type": "code",
   "execution_count": 4,
   "metadata": {
    "collapsed": false
   },
   "outputs": [
    {
     "ename": "SystemExit",
     "evalue": "client_secrets.json is missing",
     "output_type": "error",
     "traceback": [
      "An exception has occurred, use %tb to see the full traceback.\n",
      "\u001b[1;31mSystemExit\u001b[0m\u001b[1;31m:\u001b[0m client_secrets.json is missing\n"
     ]
    },
    {
     "name": "stderr",
     "output_type": "stream",
     "text": [
      "To exit: use 'exit', 'quit', or Ctrl-D.\n"
     ]
    }
   ],
   "source": [
    "import datetime\n",
    "import os\n",
    "import numpy as np\n",
    "import json\n",
    "import calendar\n",
    "from datetime import date\n",
    "import httplib2\n",
    "from apiclient.discovery import build\n",
    "from oauth2client.client import flow_from_clientsecrets\n",
    "from oauth2client.file import Storage\n",
    "from oauth2client import tools\n",
    "import argparse\n",
    " \n",
    "CLIENT_SECRETS = 'client_secrets.json'\n",
    " \n",
    "# The Flow object to be used if we need to authenticate.\n",
    "FLOW = flow_from_clientsecrets(\n",
    "    CLIENT_SECRETS,\n",
    "    scope='https://www.googleapis.com/auth/analytics.readonly',\n",
    "    message='%s is missing' % CLIENT_SECRETS\n",
    "    )\n",
    " \n",
    "# A file to store the access token\n",
    "TOKEN_FILE_NAME = 'credentials.dat'\n",
    " \n",
    "def prepare_credentials():\n",
    "    parser = argparse.ArgumentParser(parents=[tools.argparser])\n",
    "    flags = parser.parse_args()\n",
    "    # Retrieve existing credendials\n",
    "    storage = Storage(TOKEN_FILE_NAME)\n",
    "    credentials = storage.get()\n",
    "    # If no credentials exist, we create new ones\n",
    "    if credentials is None or credentials.invalid:\n",
    "        credentials = tools.run_flow(FLOW, storage, flags)\n",
    "    return credentials\n",
    " \n",
    "def initialize_service():\n",
    "    # Creates an http object and authorize it using\n",
    "    # the function prepare_creadentials()\n",
    "    http = httplib2.Http()\n",
    "    credentials = prepare_credentials()\n",
    "    http = credentials.authorize(http)\n",
    "    # Build the Analytics Service Object with the authorized http object\n",
    "    return build('analytics', 'v3', http=http)\n",
    "\n",
    "def get_accounts_ids(service):\n",
    "    accounts = service.management().accounts().list().execute()\n",
    "    ids = []\n",
    "    if accounts.get('items'): # Thsi can be replaced with a cleaner implementation\n",
    "        for account in accounts['items']:\n",
    "            ids.append(account['id'])\n",
    "    return ids\n",
    "\n",
    "def get_source_group(service, views_id, start_date, end_date):\n",
    "    ids = \"ga:\" + views_id\n",
    "    metrics = \"ga:transactionRevenue, ga:transactionShipping,ga:sessions,ga:sessions\"\n",
    "    dimensions = \"ga:transactionId,ga:dimension2\"\n",
    "    data = service.data().ga().get(\n",
    "        ids=ids, start_date=start_date, end_date=end_date, metrics=metrics,\n",
    "        dimensions=dimensions).execute()\n",
    "    try:\n",
    "        return data['rows']\n",
    "    except:\n",
    "        return False\n",
    "    \n",
    "\n",
    "#read the session info from GA\n",
    "\n",
    "def get_chcost():\n",
    "    sessions_dic={}\n",
    "    service = initialize_service() \n",
    "    views_id = '64933282'#This can be found in your web sites's Google Analytics information page\n",
    "    results=[]\n",
    "    for day in ['01','02','03','04','05','06','07','08','09','10','11','12','13','14','15','16','17','18','19','20','21']:\n",
    "        start_date = '2016' + '-' + '01' +'-' + day\n",
    "        data = get_source_group(service, views_id , start_date, start_date)\n",
    "        for things in data:\n",
    "            results.append(things)\n",
    "    return results\n",
    "    \n",
    "data=get_chcost()"
   ]
  }
 ],
 "metadata": {
  "kernelspec": {
   "display_name": "Python 2",
   "language": "python",
   "name": "python2"
  },
  "language_info": {
   "codemirror_mode": {
    "name": "ipython",
    "version": 2
   },
   "file_extension": ".py",
   "mimetype": "text/x-python",
   "name": "python",
   "nbconvert_exporter": "python",
   "pygments_lexer": "ipython2",
   "version": "2.7.11"
  }
 },
 "nbformat": 4,
 "nbformat_minor": 0
}
