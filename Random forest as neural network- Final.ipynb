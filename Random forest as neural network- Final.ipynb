{
 "cells": [
  {
   "cell_type": "markdown",
   "metadata": {},
   "source": [
    "# Real stuff from here"
   ]
  },
  {
   "cell_type": "code",
   "execution_count": 1,
   "metadata": {},
   "outputs": [],
   "source": [
    "# let us load the pytorch libraries\n",
    "import torch\n",
    "import torchvision\n",
    "# Loading submodules\n",
    "import torch.nn as nn\n",
    "#Loading variable class for differentiable params\n",
    "from torch.autograd import Variable\n",
    "import torch.optim as optim\n",
    "import pandas as pd\n",
    "import numpy as np"
   ]
  },
  {
   "cell_type": "code",
   "execution_count": 2,
   "metadata": {},
   "outputs": [],
   "source": [
    "#defining params of training\n",
    "batch_size_train = 256\n",
    "batch_size_test = 256"
   ]
  },
  {
   "cell_type": "code",
   "execution_count": 3,
   "metadata": {},
   "outputs": [],
   "source": [
    "# deifne train_loader and test_loader utilities\n",
    "train_loader = torch.utils.data.DataLoader(\n",
    "  torchvision.datasets.MNIST('./files/', train=True, download=True,\n",
    "                             transform=torchvision.transforms.Compose([\n",
    "                               torchvision.transforms.ToTensor(),\n",
    "                               torchvision.transforms.Normalize(\n",
    "                                 (0.1307,), (0.3081,))\n",
    "                             ])),\n",
    "  batch_size=batch_size_train, shuffle=True, drop_last=True )\n",
    "\n",
    "test_loader = torch.utils.data.DataLoader(\n",
    "  torchvision.datasets.MNIST('./files/', train=False, download=True,\n",
    "                             transform=torchvision.transforms.Compose([\n",
    "                               torchvision.transforms.ToTensor(),\n",
    "                               torchvision.transforms.Normalize(\n",
    "                                 (0.1307,), (0.3081,))\n",
    "                             ])),\n",
    "  batch_size=batch_size_test, shuffle=True , drop_last = True)"
   ]
  },
  {
   "cell_type": "code",
   "execution_count": 4,
   "metadata": {},
   "outputs": [],
   "source": [
    "# defining feature_selection \n",
    "class feature_selection_node(nn.Module):\n",
    "    \n",
    "    def __init__(self,number_of_trees ,batch_size):\n",
    "        # define trainable params here\n",
    "        super(feature_selection_node, self).__init__()\n",
    "        self.num_of_trees = number_of_trees\n",
    "        self.attention_mask = torch.nn.Parameter \\\n",
    "                    (data = torch.Tensor(number_of_trees, 28 *28),requires_grad=True )\n",
    "        self.attention_mask.data.uniform_(-1.0, 1.0)\n",
    "        self.batch = batch_size\n",
    "\n",
    "    def forward(self, x):\n",
    "        x = x.view(-1,28 *28)\n",
    "        attention_tmp = torch.sigmoid(self.attention_mask)\n",
    "        #scatter the mask here by only keeping the top 200 values and setting rest to 0\n",
    "        topk, idx = torch.topk(attention_tmp, k=200, dim=1)\n",
    "        attention = torch.zeros(self.num_of_trees, 28 *28)\n",
    "        attention.scatter_(1, idx, topk )\n",
    "        # multipy and send attention and product\n",
    "        return_value = torch.zeros(self.batch,self.num_of_trees,28 *28)\n",
    "        for mask_index in range(0,self.num_of_trees):\n",
    "            return_value[:,mask_index,:] = x * attention[mask_index]\n",
    "        return return_value , attention"
   ]
  },
  {
   "cell_type": "code",
   "execution_count": 5,
   "metadata": {},
   "outputs": [],
   "source": [
    "# defining feauture_selection \n",
    "class decision_node(nn.Module):\n",
    "    \n",
    "    def __init__(self, number_of_trees,max_num_of_leaf_nodes , classes ,batch):\n",
    "        super(decision_node, self).__init__()\n",
    "        self.leaf = max_num_of_leaf_nodes\n",
    "        self.tree = number_of_trees\n",
    "        self.classes = classes\n",
    "        self.batch = batch\n",
    "\n",
    "        self.symbolic_path_weights = nn.Linear(28*28,max_num_of_leaf_nodes,bias = True)\n",
    "                                        \n",
    "        self.hardtanh = nn.Hardtanh()\n",
    "        self.softmax = nn.Softmax(dim =-1)\n",
    "        self.contribution= torch.nn.Parameter(data = torch.Tensor(number_of_trees, \\\n",
    "                                        max_num_of_leaf_nodes , classes),requires_grad=True )\n",
    "        self.contribution.data.uniform_(-1.0, 1.0)\n",
    "                          \n",
    "        #Define trainabale params here\n",
    "\n",
    "    def forward(self, x):\n",
    "        # use trainable params to define computations here\n",
    "        class_value = torch.randn(self.batch,self.tree,self.leaf, self.classes)\n",
    "        symbolic_paths =     self.hardtanh(self.symbolic_path_weights(x))\n",
    "        contribution_batch = self.contribution.view(1,self.tree,self.leaf, self.classes)\n",
    "\n",
    "\n",
    "        for tree_index in range(0,self.tree):\n",
    "            for decision_index in range(0, self.leaf):\n",
    "                \n",
    "                class_value[:,tree_index,decision_index,:] = torch.mm(\n",
    "                symbolic_paths[:,tree_index,decision_index].view(-1,1) , \\\n",
    "                        self.contribution[tree_index,  decision_index ].view(1,-1))\n",
    "        # here wecould have taken cumsum also\n",
    "        class_value =  self.softmax(class_value)\n",
    "        class_value = 1.0 - class_value * class_value\n",
    "        class_value = class_value.sum(dim =-1)\n",
    "        return  symbolic_paths , class_value\n",
    "\n"
   ]
  },
  {
   "cell_type": "code",
   "execution_count": 6,
   "metadata": {
    "scrolled": true
   },
   "outputs": [],
   "source": [
    "mask = feature_selection_node(100,batch_size_train)\n",
    "decision = decision_node(100,200,10,batch_size_train)\n",
    "params = list(mask.parameters())+ list(decision.parameters())\n",
    "optimizer = optim.SGD(params, lr=1e-3,momentum=.5)\n"
   ]
  },
  {
   "cell_type": "code",
   "execution_count": 7,
   "metadata": {},
   "outputs": [],
   "source": [
    "n_epochs = 3\n",
    "log_interval = 10\n",
    "train_losses = []\n",
    "train_counter = []\n",
    "test_losses = []\n",
    "test_counter = [i*len(train_loader.dataset) for i in range(n_epochs + 1)]\n",
    "def frequency(d):\n",
    "    dic ={}\n",
    "    for item in d:\n",
    "        if item in dic.keys():\n",
    "            dic[item] = dic[item] + 1\n",
    "        else:\n",
    "            dic[item] = 1\n",
    "    dic = {\"values\" :dic.keys(),\"count\" :dic.values()}\n",
    "    df= pd.DataFrame.from_dict(dic, orient='index').transpose().sort_values([\"values\"])\n",
    "    df[\"cum\"] = df[\"count\"]/df[\"count\"].sum()\n",
    "    value = df[\"cum\"].values\n",
    "    value = torch.from_numpy(value).float()\n",
    "    value = 1-value *value\n",
    "    value = value.sum(-1)\n",
    "    return value\n",
    "def train(epoch):\n",
    "        mask.train()\n",
    "        decision.train()\n",
    "        flag = torch.ones(256,100,200)\n",
    "        for batch_idx, (data, target) in enumerate(train_loader):\n",
    "            optimizer.zero_grad()\n",
    "            masked_output , attention = mask(data)\n",
    "            decision_output, weights= decision(masked_output)\n",
    "            weights_numpy = weights.detach().numpy()\n",
    "            weights_numpy= np.roll(weights_numpy, 1, axis=-1)\n",
    "            weights_numpy[:,:,0] = frequency(target.numpy())\n",
    "            weights_output = torch.from_numpy(weights_numpy).float()\n",
    "            loss = torch.nn.MarginRankingLoss(margin=0.0000001)(weights_output,weights,flag )\n",
    "            loss.backward()\n",
    "            optimizer.step()\n",
    "            if batch_idx % log_interval == 0:\n",
    "                print('Train Epoch: {} [{}/{} ({:.0f}%)]\\tLoss: {:.6f}'.format(\n",
    "                epoch, batch_idx * len(data), len(train_loader.dataset),\n",
    "                100. * batch_idx / len(train_loader), loss.item()))\n",
    "                train_losses.append(loss.item())\n",
    "                train_counter.append(\n",
    "                (batch_idx*batch_size_train) + ((epoch-1)*len(train_loader.dataset)))"
   ]
  },
  {
   "cell_type": "code",
   "execution_count": null,
   "metadata": {
    "scrolled": true
   },
   "outputs": [
    {
     "name": "stdout",
     "output_type": "stream",
     "text": [
      "Train Epoch: 1 [0/60000 (0%)]\tLoss: 0.000734\n",
      "Train Epoch: 1 [2560/60000 (4%)]\tLoss: 0.000740\n"
     ]
    }
   ],
   "source": [
    "mask = feature_selection_node(100,batch_size_train)\n",
    "decision = decision_node(100,200,10,batch_size_train)\n",
    "params = list(mask.parameters())+ list(decision.parameters())\n",
    "optimizer = optim.SGD(params, lr=1e-3,momentum=.5)\n",
    "\n",
    "for epoch in range(1, n_epochs+1):\n",
    "    train(epoch)\n",
    "    "
   ]
  },
  {
   "cell_type": "code",
   "execution_count": null,
   "metadata": {},
   "outputs": [],
   "source": []
  }
 ],
 "metadata": {
  "kernelspec": {
   "display_name": "Python 3",
   "language": "python",
   "name": "python3"
  },
  "language_info": {
   "codemirror_mode": {
    "name": "ipython",
    "version": 3
   },
   "file_extension": ".py",
   "mimetype": "text/x-python",
   "name": "python",
   "nbconvert_exporter": "python",
   "pygments_lexer": "ipython3",
   "version": "3.6.8"
  }
 },
 "nbformat": 4,
 "nbformat_minor": 2
}
