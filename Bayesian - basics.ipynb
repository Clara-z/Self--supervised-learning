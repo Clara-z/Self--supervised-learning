{
 "cells": [
  {
   "cell_type": "code",
   "execution_count": 5,
   "metadata": {
    "collapsed": false
   },
   "outputs": [
    {
     "name": "stdout",
     "output_type": "stream",
     "text": [
      "We will use this ipython  notebook to learn the basics of Bayesian inferencing\n"
     ]
    }
   ],
   "source": [
    "print('We will use this ipython  notebook to learn the basics of Bayesian inferencing')"
   ]
  },
  {
   "cell_type": "code",
   "execution_count": 70,
   "metadata": {
    "collapsed": true
   },
   "outputs": [],
   "source": [
    "'''This part of code shows the data we have'''\n",
    "import pandas as pd\n",
    "import numpy as np\n",
    "coinflip_data= pd.DataFrame(np.random.randint(2, size=10), columns = ['coin flip result'])"
   ]
  },
  {
   "cell_type": "code",
   "execution_count": 71,
   "metadata": {
    "collapsed": false,
    "scrolled": true
   },
   "outputs": [
    {
     "name": "stdout",
     "output_type": "stream",
     "text": [
      "Coin flip data shows 1 for head and 0 for tail\n"
     ]
    },
    {
     "data": {
      "text/html": [
       "<div>\n",
       "<table border=\"1\" class=\"dataframe\">\n",
       "  <thead>\n",
       "    <tr style=\"text-align: right;\">\n",
       "      <th></th>\n",
       "      <th>coin flip result</th>\n",
       "    </tr>\n",
       "  </thead>\n",
       "  <tbody>\n",
       "    <tr>\n",
       "      <th>0</th>\n",
       "      <td>1</td>\n",
       "    </tr>\n",
       "    <tr>\n",
       "      <th>1</th>\n",
       "      <td>0</td>\n",
       "    </tr>\n",
       "    <tr>\n",
       "      <th>2</th>\n",
       "      <td>1</td>\n",
       "    </tr>\n",
       "    <tr>\n",
       "      <th>3</th>\n",
       "      <td>1</td>\n",
       "    </tr>\n",
       "    <tr>\n",
       "      <th>4</th>\n",
       "      <td>1</td>\n",
       "    </tr>\n",
       "    <tr>\n",
       "      <th>5</th>\n",
       "      <td>0</td>\n",
       "    </tr>\n",
       "    <tr>\n",
       "      <th>6</th>\n",
       "      <td>1</td>\n",
       "    </tr>\n",
       "    <tr>\n",
       "      <th>7</th>\n",
       "      <td>0</td>\n",
       "    </tr>\n",
       "    <tr>\n",
       "      <th>8</th>\n",
       "      <td>1</td>\n",
       "    </tr>\n",
       "    <tr>\n",
       "      <th>9</th>\n",
       "      <td>1</td>\n",
       "    </tr>\n",
       "  </tbody>\n",
       "</table>\n",
       "</div>"
      ],
      "text/plain": [
       "   coin flip result\n",
       "0                 1\n",
       "1                 0\n",
       "2                 1\n",
       "3                 1\n",
       "4                 1\n",
       "5                 0\n",
       "6                 1\n",
       "7                 0\n",
       "8                 1\n",
       "9                 1"
      ]
     },
     "execution_count": 71,
     "metadata": {},
     "output_type": "execute_result"
    }
   ],
   "source": [
    "print('Coin flip data shows 1 for head and 0 for tail')\n",
    "coinflip_data"
   ]
  },
  {
   "cell_type": "code",
   "execution_count": 73,
   "metadata": {
    "collapsed": false
   },
   "outputs": [
    {
     "name": "stdout",
     "output_type": "stream",
     "text": [
      "Now based on coin flips , frequentist approach will have following estimation for biasedess of a coin.\n",
      "As per frequentist approach coin is 70% biased which is not a fair coin.\n"
     ]
    },
    {
     "data": {
      "text/plain": [
       "1    7\n",
       "0    3\n",
       "Name: coin flip result, dtype: int64"
      ]
     },
     "execution_count": 73,
     "metadata": {},
     "output_type": "execute_result"
    }
   ],
   "source": [
    "print('Now based on coin flips , frequentist approach will have following estimation for biasedess of a coin.')\n",
    "print('As per frequentist approach coin is 70% biased which is not a fair coin.')\n",
    "coinflip_data['coin flip result'].value_counts()"
   ]
  },
  {
   "cell_type": "code",
   "execution_count": 12,
   "metadata": {
    "collapsed": false
   },
   "outputs": [
    {
     "name": "stdout",
     "output_type": "stream",
     "text": [
      "now we will look at the bayesian approach and how it differs from the classical approach\n"
     ]
    }
   ],
   "source": [
    "print('now we will look at the bayesian approach and how it differs from the classical approach')"
   ]
  },
  {
   "cell_type": "code",
   "execution_count": 14,
   "metadata": {
    "collapsed": false
   },
   "outputs": [
    {
     "name": "stdout",
     "output_type": "stream",
     "text": [
      "In a Bayesian analysis, we begin with some prior allocation of credibility over possible probabilities of the coin coming up heads. Then, we observe some data that consist of a set of results from flipping the coin. Then, we infer the posterior distribution of credibility using Bayes’ rule. Bayes’ rule requires us to specify the likelihood function which is probability of data given the prior.\n"
     ]
    }
   ],
   "source": [
    "print('In a Bayesian analysis, we begin with some prior allocation of credibility over possible \\\n",
    "probabilities of the coin coming up heads. Then, we observe some data that consist \\\n",
    "of a set of results from flipping the coin. Then, we infer the posterior distribution of \\\n",
    "credibility using Bayes’ rule. Bayes’ rule requires us to specify the likelihood function \\\n",
    "which is probability of data given the prior.')"
   ]
  },
  {
   "cell_type": "code",
   "execution_count": 82,
   "metadata": {
    "collapsed": false
   },
   "outputs": [
    {
     "name": "stdout",
     "output_type": "stream",
     "text": [
      "lets say that instead of calculating biasedness of a coin directly from data, we had some intuition about it\n",
      "say it was beta distributed meaning there was more than one possibility of coin biasedness\n",
      "In fact here is where the bayesian starts - where we are uncertain about the credibility of the parameter being just one value and hence we assign a whole probability\n",
      "lets plot it\n"
     ]
    },
    {
     "data": {
      "text/plain": [
       "<matplotlib.axes._subplots.AxesSubplot at 0x7f15d7a79b50>"
      ]
     },
     "execution_count": 82,
     "metadata": {},
     "output_type": "execute_result"
    },
    {
     "data": {
      "image/png": "[encoded data removed]",
      "text/plain": [
       "<matplotlib.figure.Figure at 0x7f15d79ba250>"
      ]
     },
     "metadata": {},
     "output_type": "display_data"
    }
   ],
   "source": [
    "\n",
    "%matplotlib inline\n",
    "print('lets say that instead of calculating biasedness of a coin directly from data, we had some intuition about it')\n",
    "print('say it was beta distributed meaning there was more than one possibility of coin biasedness')\n",
    "print('In fact here is where the bayesian starts - where we are uncertain about the credibility of the parameter \\\n",
    "being just one value and hence we assign a whole probability')\n",
    "print('lets plot it')\n",
    "a =3\n",
    "b=3\n",
    "bayesian_inferencing = pd.DataFrame(np.random.beta(a,b, 1000),columns =['biasedness_prior'])\n",
    "bayesian_inferencing['biasedness_prior'].hist(bins=50)"
   ]
  },
  {
   "cell_type": "code",
   "execution_count": 23,
   "metadata": {
    "collapsed": false
   },
   "outputs": [
    {
     "name": "stdout",
     "output_type": "stream",
     "text": [
      "Now Bayesian says that Probability(parameter given data) is proportional to Probability(Data given parameter) * Probability(parameter) unlike frequentist approach which says that parameter can have only one value that is Probability(parameter given data) is proportional to Probability(Data given parameter)\n"
     ]
    }
   ],
   "source": [
    "print('Now Bayesian says that Probability(parameter given data) is proportional to Probability(Data given parameter) * \\\n",
    "Probability(parameter) unlike frequentist approach which says that parameter can have only one value that is \\\n",
    "Probability(parameter given data) is proportional to Probability(Data given parameter)')"
   ]
  },
  {
   "cell_type": "code",
   "execution_count": 26,
   "metadata": {
    "collapsed": false,
    "scrolled": false
   },
   "outputs": [
    {
     "name": "stdout",
     "output_type": "stream",
     "text": [
      "Now for a binary process where the outcome can only be 1 of the 2, the Bernoulli likelihood function is used which is biasedness * (1- biasedness). Since there are 100 flips in the coinflip_data dataframe, assuming independent and identical sampling, we get biasedness**(number of heads) * (1- biasedness)** (number of tails) as likelihood function \n"
     ]
    }
   ],
   "source": [
    "print('Now for a binary process where the outcome can only be 1 of the 2, the Bernoulli likelihood function is used which is \\\n",
    "biasedness * (1- biasedness). Since there are 100 flips in the coinflip_data dataframe, assuming independent and identical \\\n",
    "sampling, we get biasedness**(number of heads) * (1- biasedness)** (number of tails) as likelihood function ')"
   ]
  },
  {
   "cell_type": "code",
   "execution_count": 83,
   "metadata": {
    "collapsed": false,
    "scrolled": true
   },
   "outputs": [
    {
     "name": "stdout",
     "output_type": "stream",
     "text": [
      "lets build the bayesian way of estimating biasedness using Posterior proportional to likelihood of data * prior\n"
     ]
    },
    {
     "data": {
      "text/html": [
       "<div>\n",
       "<table border=\"1\" class=\"dataframe\">\n",
       "  <thead>\n",
       "    <tr style=\"text-align: right;\">\n",
       "      <th></th>\n",
       "      <th>biasedness_prior</th>\n",
       "      <th>bernoulli_likelihood_of_dataset</th>\n",
       "      <th>posterior</th>\n",
       "    </tr>\n",
       "  </thead>\n",
       "  <tbody>\n",
       "    <tr>\n",
       "      <th>0</th>\n",
       "      <td>0.317156</td>\n",
       "      <td>1.027714e-04</td>\n",
       "      <td>3.259452e-05</td>\n",
       "    </tr>\n",
       "    <tr>\n",
       "      <th>1</th>\n",
       "      <td>0.347728</td>\n",
       "      <td>1.705929e-04</td>\n",
       "      <td>5.931984e-05</td>\n",
       "    </tr>\n",
       "    <tr>\n",
       "      <th>2</th>\n",
       "      <td>0.521710</td>\n",
       "      <td>1.151005e-03</td>\n",
       "      <td>6.004905e-04</td>\n",
       "    </tr>\n",
       "    <tr>\n",
       "      <th>3</th>\n",
       "      <td>0.368057</td>\n",
       "      <td>2.309093e-04</td>\n",
       "      <td>8.498785e-05</td>\n",
       "    </tr>\n",
       "    <tr>\n",
       "      <th>4</th>\n",
       "      <td>0.425425</td>\n",
       "      <td>4.784130e-04</td>\n",
       "      <td>2.035290e-04</td>\n",
       "    </tr>\n",
       "    <tr>\n",
       "      <th>5</th>\n",
       "      <td>0.463991</td>\n",
       "      <td>7.129913e-04</td>\n",
       "      <td>3.308217e-04</td>\n",
       "    </tr>\n",
       "    <tr>\n",
       "      <th>6</th>\n",
       "      <td>0.641624</td>\n",
       "      <td>2.060541e-03</td>\n",
       "      <td>1.322093e-03</td>\n",
       "    </tr>\n",
       "    <tr>\n",
       "      <th>7</th>\n",
       "      <td>0.324575</td>\n",
       "      <td>1.169334e-04</td>\n",
       "      <td>3.795369e-05</td>\n",
       "    </tr>\n",
       "    <tr>\n",
       "      <th>8</th>\n",
       "      <td>0.308181</td>\n",
       "      <td>8.742221e-05</td>\n",
       "      <td>2.694190e-05</td>\n",
       "    </tr>\n",
       "    <tr>\n",
       "      <th>9</th>\n",
       "      <td>0.750913</td>\n",
       "      <td>2.080559e-03</td>\n",
       "      <td>1.562320e-03</td>\n",
       "    </tr>\n",
       "    <tr>\n",
       "      <th>10</th>\n",
       "      <td>0.854006</td>\n",
       "      <td>1.030936e-03</td>\n",
       "      <td>8.804253e-04</td>\n",
       "    </tr>\n",
       "    <tr>\n",
       "      <th>11</th>\n",
       "      <td>0.440836</td>\n",
       "      <td>5.656643e-04</td>\n",
       "      <td>2.493654e-04</td>\n",
       "    </tr>\n",
       "    <tr>\n",
       "      <th>12</th>\n",
       "      <td>0.493489</td>\n",
       "      <td>9.262068e-04</td>\n",
       "      <td>4.570726e-04</td>\n",
       "    </tr>\n",
       "    <tr>\n",
       "      <th>13</th>\n",
       "      <td>0.222015</td>\n",
       "      <td>1.251950e-05</td>\n",
       "      <td>2.779513e-06</td>\n",
       "    </tr>\n",
       "    <tr>\n",
       "      <th>14</th>\n",
       "      <td>0.698198</td>\n",
       "      <td>2.223394e-03</td>\n",
       "      <td>1.552369e-03</td>\n",
       "    </tr>\n",
       "    <tr>\n",
       "      <th>15</th>\n",
       "      <td>0.540709</td>\n",
       "      <td>1.309210e-03</td>\n",
       "      <td>7.079016e-04</td>\n",
       "    </tr>\n",
       "    <tr>\n",
       "      <th>16</th>\n",
       "      <td>0.463603</td>\n",
       "      <td>7.103682e-04</td>\n",
       "      <td>3.293290e-04</td>\n",
       "    </tr>\n",
       "    <tr>\n",
       "      <th>17</th>\n",
       "      <td>0.616521</td>\n",
       "      <td>1.909235e-03</td>\n",
       "      <td>1.177083e-03</td>\n",
       "    </tr>\n",
       "    <tr>\n",
       "      <th>18</th>\n",
       "      <td>0.216353</td>\n",
       "      <td>1.067825e-05</td>\n",
       "      <td>2.310271e-06</td>\n",
       "    </tr>\n",
       "    <tr>\n",
       "      <th>19</th>\n",
       "      <td>0.799524</td>\n",
       "      <td>1.682706e-03</td>\n",
       "      <td>1.345364e-03</td>\n",
       "    </tr>\n",
       "    <tr>\n",
       "      <th>20</th>\n",
       "      <td>0.489900</td>\n",
       "      <td>8.989141e-04</td>\n",
       "      <td>4.403781e-04</td>\n",
       "    </tr>\n",
       "    <tr>\n",
       "      <th>21</th>\n",
       "      <td>0.192794</td>\n",
       "      <td>5.207298e-06</td>\n",
       "      <td>1.003937e-06</td>\n",
       "    </tr>\n",
       "    <tr>\n",
       "      <th>22</th>\n",
       "      <td>0.278301</td>\n",
       "      <td>4.860410e-05</td>\n",
       "      <td>1.352658e-05</td>\n",
       "    </tr>\n",
       "    <tr>\n",
       "      <th>23</th>\n",
       "      <td>0.746319</td>\n",
       "      <td>2.105402e-03</td>\n",
       "      <td>1.571302e-03</td>\n",
       "    </tr>\n",
       "    <tr>\n",
       "      <th>24</th>\n",
       "      <td>0.499299</td>\n",
       "      <td>9.710885e-04</td>\n",
       "      <td>4.848631e-04</td>\n",
       "    </tr>\n",
       "    <tr>\n",
       "      <th>25</th>\n",
       "      <td>0.506114</td>\n",
       "      <td>1.024754e-03</td>\n",
       "      <td>5.186427e-04</td>\n",
       "    </tr>\n",
       "    <tr>\n",
       "      <th>26</th>\n",
       "      <td>0.518733</td>\n",
       "      <td>1.126592e-03</td>\n",
       "      <td>5.844009e-04</td>\n",
       "    </tr>\n",
       "    <tr>\n",
       "      <th>27</th>\n",
       "      <td>0.599796</td>\n",
       "      <td>1.790065e-03</td>\n",
       "      <td>1.073674e-03</td>\n",
       "    </tr>\n",
       "    <tr>\n",
       "      <th>28</th>\n",
       "      <td>0.390280</td>\n",
       "      <td>3.126279e-04</td>\n",
       "      <td>1.220126e-04</td>\n",
       "    </tr>\n",
       "    <tr>\n",
       "      <th>29</th>\n",
       "      <td>0.444537</td>\n",
       "      <td>5.879225e-04</td>\n",
       "      <td>2.613532e-04</td>\n",
       "    </tr>\n",
       "    <tr>\n",
       "      <th>...</th>\n",
       "      <td>...</td>\n",
       "      <td>...</td>\n",
       "      <td>...</td>\n",
       "    </tr>\n",
       "    <tr>\n",
       "      <th>970</th>\n",
       "      <td>0.524959</td>\n",
       "      <td>1.177798e-03</td>\n",
       "      <td>6.182959e-04</td>\n",
       "    </tr>\n",
       "    <tr>\n",
       "      <th>971</th>\n",
       "      <td>0.538732</td>\n",
       "      <td>1.292616e-03</td>\n",
       "      <td>6.963737e-04</td>\n",
       "    </tr>\n",
       "    <tr>\n",
       "      <th>972</th>\n",
       "      <td>0.614303</td>\n",
       "      <td>1.894164e-03</td>\n",
       "      <td>1.163591e-03</td>\n",
       "    </tr>\n",
       "    <tr>\n",
       "      <th>973</th>\n",
       "      <td>0.431293</td>\n",
       "      <td>5.105885e-04</td>\n",
       "      <td>2.202131e-04</td>\n",
       "    </tr>\n",
       "    <tr>\n",
       "      <th>974</th>\n",
       "      <td>0.212126</td>\n",
       "      <td>9.452057e-06</td>\n",
       "      <td>2.005026e-06</td>\n",
       "    </tr>\n",
       "    <tr>\n",
       "      <th>975</th>\n",
       "      <td>0.659059</td>\n",
       "      <td>2.140463e-03</td>\n",
       "      <td>1.410692e-03</td>\n",
       "    </tr>\n",
       "    <tr>\n",
       "      <th>976</th>\n",
       "      <td>0.517296</td>\n",
       "      <td>1.114850e-03</td>\n",
       "      <td>5.767071e-04</td>\n",
       "    </tr>\n",
       "    <tr>\n",
       "      <th>977</th>\n",
       "      <td>0.438083</td>\n",
       "      <td>5.494270e-04</td>\n",
       "      <td>2.406945e-04</td>\n",
       "    </tr>\n",
       "    <tr>\n",
       "      <th>978</th>\n",
       "      <td>0.523208</td>\n",
       "      <td>1.163343e-03</td>\n",
       "      <td>6.086702e-04</td>\n",
       "    </tr>\n",
       "    <tr>\n",
       "      <th>979</th>\n",
       "      <td>0.783623</td>\n",
       "      <td>1.838157e-03</td>\n",
       "      <td>1.440423e-03</td>\n",
       "    </tr>\n",
       "    <tr>\n",
       "      <th>980</th>\n",
       "      <td>0.763206</td>\n",
       "      <td>2.002645e-03</td>\n",
       "      <td>1.528431e-03</td>\n",
       "    </tr>\n",
       "    <tr>\n",
       "      <th>981</th>\n",
       "      <td>0.480095</td>\n",
       "      <td>8.261528e-04</td>\n",
       "      <td>3.966314e-04</td>\n",
       "    </tr>\n",
       "    <tr>\n",
       "      <th>982</th>\n",
       "      <td>0.551768</td>\n",
       "      <td>1.402179e-03</td>\n",
       "      <td>7.736770e-04</td>\n",
       "    </tr>\n",
       "    <tr>\n",
       "      <th>983</th>\n",
       "      <td>0.598834</td>\n",
       "      <td>1.782862e-03</td>\n",
       "      <td>1.067638e-03</td>\n",
       "    </tr>\n",
       "    <tr>\n",
       "      <th>984</th>\n",
       "      <td>0.614780</td>\n",
       "      <td>1.897423e-03</td>\n",
       "      <td>1.166497e-03</td>\n",
       "    </tr>\n",
       "    <tr>\n",
       "      <th>985</th>\n",
       "      <td>0.560263</td>\n",
       "      <td>1.473409e-03</td>\n",
       "      <td>8.254970e-04</td>\n",
       "    </tr>\n",
       "    <tr>\n",
       "      <th>986</th>\n",
       "      <td>0.773596</td>\n",
       "      <td>1.924207e-03</td>\n",
       "      <td>1.488559e-03</td>\n",
       "    </tr>\n",
       "    <tr>\n",
       "      <th>987</th>\n",
       "      <td>0.789242</td>\n",
       "      <td>1.785760e-03</td>\n",
       "      <td>1.409397e-03</td>\n",
       "    </tr>\n",
       "    <tr>\n",
       "      <th>988</th>\n",
       "      <td>0.715144</td>\n",
       "      <td>2.211214e-03</td>\n",
       "      <td>1.581335e-03</td>\n",
       "    </tr>\n",
       "    <tr>\n",
       "      <th>989</th>\n",
       "      <td>0.469105</td>\n",
       "      <td>7.480256e-04</td>\n",
       "      <td>3.509026e-04</td>\n",
       "    </tr>\n",
       "    <tr>\n",
       "      <th>990</th>\n",
       "      <td>0.705786</td>\n",
       "      <td>2.221781e-03</td>\n",
       "      <td>1.568103e-03</td>\n",
       "    </tr>\n",
       "    <tr>\n",
       "      <th>991</th>\n",
       "      <td>0.584244</td>\n",
       "      <td>1.669842e-03</td>\n",
       "      <td>9.755955e-04</td>\n",
       "    </tr>\n",
       "    <tr>\n",
       "      <th>992</th>\n",
       "      <td>0.640157</td>\n",
       "      <td>2.052792e-03</td>\n",
       "      <td>1.314110e-03</td>\n",
       "    </tr>\n",
       "    <tr>\n",
       "      <th>993</th>\n",
       "      <td>0.496132</td>\n",
       "      <td>9.465200e-04</td>\n",
       "      <td>4.695985e-04</td>\n",
       "    </tr>\n",
       "    <tr>\n",
       "      <th>994</th>\n",
       "      <td>0.319015</td>\n",
       "      <td>1.061925e-04</td>\n",
       "      <td>3.387706e-05</td>\n",
       "    </tr>\n",
       "    <tr>\n",
       "      <th>995</th>\n",
       "      <td>0.783205</td>\n",
       "      <td>1.841938e-03</td>\n",
       "      <td>1.442616e-03</td>\n",
       "    </tr>\n",
       "    <tr>\n",
       "      <th>996</th>\n",
       "      <td>0.662267</td>\n",
       "      <td>2.152545e-03</td>\n",
       "      <td>1.425559e-03</td>\n",
       "    </tr>\n",
       "    <tr>\n",
       "      <th>997</th>\n",
       "      <td>0.091224</td>\n",
       "      <td>3.945683e-08</td>\n",
       "      <td>3.599395e-09</td>\n",
       "    </tr>\n",
       "    <tr>\n",
       "      <th>998</th>\n",
       "      <td>0.644990</td>\n",
       "      <td>2.077747e-03</td>\n",
       "      <td>1.340126e-03</td>\n",
       "    </tr>\n",
       "    <tr>\n",
       "      <th>999</th>\n",
       "      <td>0.395153</td>\n",
       "      <td>3.328825e-04</td>\n",
       "      <td>1.315393e-04</td>\n",
       "    </tr>\n",
       "  </tbody>\n",
       "</table>\n",
       "<p>1000 rows × 3 columns</p>\n",
       "</div>"
      ],
      "text/plain": [
       "     biasedness_prior  bernoulli_likelihood_of_dataset     posterior\n",
       "0            0.317156                     1.027714e-04  3.259452e-05\n",
       "1            0.347728                     1.705929e-04  5.931984e-05\n",
       "2            0.521710                     1.151005e-03  6.004905e-04\n",
       "3            0.368057                     2.309093e-04  8.498785e-05\n",
       "4            0.425425                     4.784130e-04  2.035290e-04\n",
       "5            0.463991                     7.129913e-04  3.308217e-04\n",
       "6            0.641624                     2.060541e-03  1.322093e-03\n",
       "7            0.324575                     1.169334e-04  3.795369e-05\n",
       "8            0.308181                     8.742221e-05  2.694190e-05\n",
       "9            0.750913                     2.080559e-03  1.562320e-03\n",
       "10           0.854006                     1.030936e-03  8.804253e-04\n",
       "11           0.440836                     5.656643e-04  2.493654e-04\n",
       "12           0.493489                     9.262068e-04  4.570726e-04\n",
       "13           0.222015                     1.251950e-05  2.779513e-06\n",
       "14           0.698198                     2.223394e-03  1.552369e-03\n",
       "15           0.540709                     1.309210e-03  7.079016e-04\n",
       "16           0.463603                     7.103682e-04  3.293290e-04\n",
       "17           0.616521                     1.909235e-03  1.177083e-03\n",
       "18           0.216353                     1.067825e-05  2.310271e-06\n",
       "19           0.799524                     1.682706e-03  1.345364e-03\n",
       "20           0.489900                     8.989141e-04  4.403781e-04\n",
       "21           0.192794                     5.207298e-06  1.003937e-06\n",
       "22           0.278301                     4.860410e-05  1.352658e-05\n",
       "23           0.746319                     2.105402e-03  1.571302e-03\n",
       "24           0.499299                     9.710885e-04  4.848631e-04\n",
       "25           0.506114                     1.024754e-03  5.186427e-04\n",
       "26           0.518733                     1.126592e-03  5.844009e-04\n",
       "27           0.599796                     1.790065e-03  1.073674e-03\n",
       "28           0.390280                     3.126279e-04  1.220126e-04\n",
       "29           0.444537                     5.879225e-04  2.613532e-04\n",
       "..                ...                              ...           ...\n",
       "970          0.524959                     1.177798e-03  6.182959e-04\n",
       "971          0.538732                     1.292616e-03  6.963737e-04\n",
       "972          0.614303                     1.894164e-03  1.163591e-03\n",
       "973          0.431293                     5.105885e-04  2.202131e-04\n",
       "974          0.212126                     9.452057e-06  2.005026e-06\n",
       "975          0.659059                     2.140463e-03  1.410692e-03\n",
       "976          0.517296                     1.114850e-03  5.767071e-04\n",
       "977          0.438083                     5.494270e-04  2.406945e-04\n",
       "978          0.523208                     1.163343e-03  6.086702e-04\n",
       "979          0.783623                     1.838157e-03  1.440423e-03\n",
       "980          0.763206                     2.002645e-03  1.528431e-03\n",
       "981          0.480095                     8.261528e-04  3.966314e-04\n",
       "982          0.551768                     1.402179e-03  7.736770e-04\n",
       "983          0.598834                     1.782862e-03  1.067638e-03\n",
       "984          0.614780                     1.897423e-03  1.166497e-03\n",
       "985          0.560263                     1.473409e-03  8.254970e-04\n",
       "986          0.773596                     1.924207e-03  1.488559e-03\n",
       "987          0.789242                     1.785760e-03  1.409397e-03\n",
       "988          0.715144                     2.211214e-03  1.581335e-03\n",
       "989          0.469105                     7.480256e-04  3.509026e-04\n",
       "990          0.705786                     2.221781e-03  1.568103e-03\n",
       "991          0.584244                     1.669842e-03  9.755955e-04\n",
       "992          0.640157                     2.052792e-03  1.314110e-03\n",
       "993          0.496132                     9.465200e-04  4.695985e-04\n",
       "994          0.319015                     1.061925e-04  3.387706e-05\n",
       "995          0.783205                     1.841938e-03  1.442616e-03\n",
       "996          0.662267                     2.152545e-03  1.425559e-03\n",
       "997          0.091224                     3.945683e-08  3.599395e-09\n",
       "998          0.644990                     2.077747e-03  1.340126e-03\n",
       "999          0.395153                     3.328825e-04  1.315393e-04\n",
       "\n",
       "[1000 rows x 3 columns]"
      ]
     },
     "execution_count": 83,
     "metadata": {},
     "output_type": "execute_result"
    }
   ],
   "source": [
    "print('lets build the bayesian way of estimating biasedness using Posterior proportional to likelihood of data * prior')\n",
    "count_head=coinflip_data[coinflip_data['coin flip result']==1].count()\n",
    "count_tail=coinflip_data[coinflip_data['coin flip result']==0].count()\n",
    "bayesian_inferencing['bernoulli_likelihood_of_dataset'] = bayesian_inferencing['biasedness_prior']**int(count_head.values) * \\\n",
    "(1-bayesian_inferencing['biasedness_prior'])**int(count_tail.values)\n",
    "bayesian_inferencing['posterior'] = bayesian_inferencing['biasedness_prior']*bayesian_inferencing['bernoulli_likelihood_of_dataset']\n",
    "bayesian_inferencing"
   ]
  },
  {
   "cell_type": "code",
   "execution_count": 84,
   "metadata": {
    "collapsed": false,
    "scrolled": true
   },
   "outputs": [
    {
     "name": "stdout",
     "output_type": "stream",
     "text": [
      "We alreay saw the prior distirbution in earlier in edit box 63\n",
      "lets see posterior and likelihood and for convenience we will plot prior again\n"
     ]
    },
    {
     "data": {
      "text/plain": [
       "<matplotlib.axes._subplots.AxesSubplot at 0x7f15d7799c90>"
      ]
     },
     "execution_count": 84,
     "metadata": {},
     "output_type": "execute_result"
    },
    {
     "data": {
      "image/png": "[encoded data removed]",
      "text/plain": [
       "<matplotlib.figure.Figure at 0x7f15d778f350>"
      ]
     },
     "metadata": {},
     "output_type": "display_data"
    }
   ],
   "source": [
    "print('We alreay saw the prior distirbution in earlier in edit box 63')\n",
    "print('lets see posterior and likelihood and for convenience we will plot prior again')\n",
    "bayesian_inferencing['biasedness_prior'].hist(bins=50)"
   ]
  },
  {
   "cell_type": "code",
   "execution_count": 105,
   "metadata": {
    "collapsed": false,
    "scrolled": true
   },
   "outputs": [
    {
     "data": {
      "image/png": "[encoded data removed]",
      "text/plain": [
       "<matplotlib.figure.Figure at 0x7f15d6576550>"
      ]
     },
     "metadata": {},
     "output_type": "display_data"
    }
   ],
   "source": [
    "import pylab as plt\n",
    "bayesian_inferencing.hist('biasedness_prior',weights=bayesian_inferencing['bernoulli_likelihood_of_dataset'] , bins =50)\n",
    "plt.ylabel('bernoulli_likelihood_of_dataset')\n",
    "plt.show()"
   ]
  },
  {
   "cell_type": "code",
   "execution_count": 106,
   "metadata": {
    "collapsed": false,
    "scrolled": true
   },
   "outputs": [
    {
     "data": {
      "image/png": "[encoded data removed]",
      "text/plain": [
       "<matplotlib.figure.Figure at 0x7f15d6972cd0>"
      ]
     },
     "metadata": {},
     "output_type": "display_data"
    }
   ],
   "source": [
    "import pylab as plt\n",
    "bayesian_inferencing.hist('biasedness_prior',weights=bayesian_inferencing['posterior'] , bins =50)\n",
    "plt.ylabel('posterior')\n",
    "plt.show()"
   ]
  },
  {
   "cell_type": "code",
   "execution_count": 90,
   "metadata": {
    "collapsed": false
   },
   "outputs": [
    {
     "name": "stdout",
     "output_type": "stream",
     "text": [
      "Here the posterior distribution says that there is not just one possibility of biasedness but many\n",
      "Here probabilities are not scaled and hence they will not sum to one\n",
      "We said that posterior is proportional to the product of likelihood and prior\n",
      "In fact here lies the biggest challenge in Bayesian inferencing that normalising factor is almost always intractable integration but in this case we will find an easy solution.\n",
      "In practical cases, we will use MCMC method and demonstrate the method on the same data set.\n"
     ]
    }
   ],
   "source": [
    "print('Here the posterior distribution says that there is not just one possibility of biasedness but many')\n",
    "print('Here probabilities are not scaled and hence they will not sum to one')\n",
    "print('We said that posterior is proportional to the product of likelihood and prior')\n",
    "print('In fact here lies the biggest challenge in Bayesian inferencing that normalising factor is almost always intractable integration \\\n",
    "but in this case we will find an easy solution.')\n",
    "print('In practical cases, we will use MCMC method and demonstrate the method on the same data set.')"
   ]
  },
  {
   "cell_type": "code",
   "execution_count": 91,
   "metadata": {
    "collapsed": false
   },
   "outputs": [
    {
     "name": "stdout",
     "output_type": "stream",
     "text": [
      "For beta priors beta(a,b), posterior is simply beta(a+number of positive datum, b+negative datum)\n",
      "This can be easily proven by taking Bayesian theorm which says that Posterior = Likelihood * Prior/Evidence\n"
     ]
    }
   ],
   "source": [
    "print('For beta priors beta(a,b), posterior is simply beta(a+number of positive datum, b+negative datum)')\n",
    "print('This can be easily proven by taking Bayesian theorm which says that Posterior = Likelihood * Prior/Evidence')"
   ]
  },
  {
   "cell_type": "code",
   "execution_count": 108,
   "metadata": {
    "collapsed": false,
    "scrolled": true
   },
   "outputs": [
    {
     "name": "stdout",
     "output_type": "stream",
     "text": [
      "As a result we can easily normalise the posterior by taking probability of beta distirbution when a=3, b=3 , head = 7 and tail =3 and hence beta distirbution = beta(3+7, 3+3)\n"
     ]
    },
    {
     "data": {
      "text/plain": [
       "<matplotlib.axes._subplots.AxesSubplot at 0x7f15d5e37c10>"
      ]
     },
     "execution_count": 108,
     "metadata": {},
     "output_type": "execute_result"
    },
    {
     "data": {
      "image/png": "[encoded data removed]",
      "text/plain": [
       "<matplotlib.figure.Figure at 0x7f15d5d76e10>"
      ]
     },
     "metadata": {},
     "output_type": "display_data"
    }
   ],
   "source": [
    "print('As a result we can easily normalise the posterior by taking probability of beta distirbution when \\\n",
    "a=3, b=3 , head = 7 and tail =3 and hence beta distirbution = beta(3+7, 3+3)')\n",
    "normalised_posterior = pd.DataFrame(np.random.beta(10,6, 10000),columns =['normalised_posterior'])\n",
    "normalised_posterior['normalised_posterior'].hist(bins=50)"
   ]
  },
  {
   "cell_type": "code",
   "execution_count": null,
   "metadata": {
    "collapsed": true
   },
   "outputs": [],
   "source": [
    "print('Here you can observe that analytically calculated posterior and numerically calculated posterior is same in shape')\n",
    "print('What we have shown is that unlike frequentist approach, bayesians capture uncertainty as probability for every unknown \\\n",
    "than believing that there is only one parameter')"
   ]
  },
  {
   "cell_type": "code",
   "execution_count": 116,
   "metadata": {
    "collapsed": false
   },
   "outputs": [
    {
     "name": "stdout",
     "output_type": "stream",
     "text": [
      "in the next article we will use MCMC to solve the posteriors from the priors\n"
     ]
    }
   ],
   "source": [
    "print('in the next article we will use MCMC to solve the posteriors from the priors')"
   ]
  },
  {
   "cell_type": "code",
   "execution_count": 122,
   "metadata": {
    "collapsed": false
   },
   "outputs": [
    {
     "data": {
      "image/png": "[encoded data removed]",
      "text/plain": [
       "<matplotlib.figure.Figure at 0x7f15d5a36dd0>"
      ]
     },
     "metadata": {},
     "output_type": "display_data"
    }
   ],
   "source": [
    "import pylab as plt\n",
    "b = pd.DataFrame([10,0], columns=['product id'])\n",
    "b['probability'] = pd.DataFrame([0,1])\n",
    "b.hist('product id',weights=b['probability'] , bins =50)\n",
    "plt.ylabel('purchase % of customer B' )\n",
    "plt.show()"
   ]
  }
 ],
 "metadata": {
  "kernelspec": {
   "display_name": "Python 2",
   "language": "python",
   "name": "python2"
  },
  "language_info": {
   "codemirror_mode": {
    "name": "ipython",
    "version": 2
   },
   "file_extension": ".py",
   "mimetype": "text/x-python",
   "name": "python",
   "nbconvert_exporter": "python",
   "pygments_lexer": "ipython2",
   "version": "2.7.12"
  }
 },
 "nbformat": 4,
 "nbformat_minor": 0
}
